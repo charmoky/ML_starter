{
 "cells": [
  {
   "cell_type": "code",
   "execution_count": 119,
   "metadata": {},
   "outputs": [
    {
     "data": {
      "text/html": [
       "<div>\n",
       "<style scoped>\n",
       "    .dataframe tbody tr th:only-of-type {\n",
       "        vertical-align: middle;\n",
       "    }\n",
       "\n",
       "    .dataframe tbody tr th {\n",
       "        vertical-align: top;\n",
       "    }\n",
       "\n",
       "    .dataframe thead th {\n",
       "        text-align: right;\n",
       "    }\n",
       "</style>\n",
       "<table border=\"1\" class=\"dataframe\">\n",
       "  <thead>\n",
       "    <tr style=\"text-align: right;\">\n",
       "      <th></th>\n",
       "      <th>PassengerId</th>\n",
       "      <th>Survived</th>\n",
       "      <th>Pclass</th>\n",
       "      <th>Name</th>\n",
       "      <th>Sex</th>\n",
       "      <th>Age</th>\n",
       "      <th>SibSp</th>\n",
       "      <th>Parch</th>\n",
       "      <th>Ticket</th>\n",
       "      <th>Fare</th>\n",
       "      <th>Cabin</th>\n",
       "      <th>Embarked</th>\n",
       "    </tr>\n",
       "  </thead>\n",
       "  <tbody>\n",
       "    <tr>\n",
       "      <th>0</th>\n",
       "      <td>1</td>\n",
       "      <td>0</td>\n",
       "      <td>3</td>\n",
       "      <td>Braund, Mr. Owen Harris</td>\n",
       "      <td>male</td>\n",
       "      <td>22.0</td>\n",
       "      <td>1</td>\n",
       "      <td>0</td>\n",
       "      <td>A/5 21171</td>\n",
       "      <td>7.2500</td>\n",
       "      <td>NaN</td>\n",
       "      <td>S</td>\n",
       "    </tr>\n",
       "    <tr>\n",
       "      <th>1</th>\n",
       "      <td>2</td>\n",
       "      <td>1</td>\n",
       "      <td>1</td>\n",
       "      <td>Cumings, Mrs. John Bradley (Florence Briggs Th...</td>\n",
       "      <td>female</td>\n",
       "      <td>38.0</td>\n",
       "      <td>1</td>\n",
       "      <td>0</td>\n",
       "      <td>PC 17599</td>\n",
       "      <td>71.2833</td>\n",
       "      <td>C85</td>\n",
       "      <td>C</td>\n",
       "    </tr>\n",
       "    <tr>\n",
       "      <th>2</th>\n",
       "      <td>3</td>\n",
       "      <td>1</td>\n",
       "      <td>3</td>\n",
       "      <td>Heikkinen, Miss. Laina</td>\n",
       "      <td>female</td>\n",
       "      <td>26.0</td>\n",
       "      <td>0</td>\n",
       "      <td>0</td>\n",
       "      <td>STON/O2. 3101282</td>\n",
       "      <td>7.9250</td>\n",
       "      <td>NaN</td>\n",
       "      <td>S</td>\n",
       "    </tr>\n",
       "    <tr>\n",
       "      <th>3</th>\n",
       "      <td>4</td>\n",
       "      <td>1</td>\n",
       "      <td>1</td>\n",
       "      <td>Futrelle, Mrs. Jacques Heath (Lily May Peel)</td>\n",
       "      <td>female</td>\n",
       "      <td>35.0</td>\n",
       "      <td>1</td>\n",
       "      <td>0</td>\n",
       "      <td>113803</td>\n",
       "      <td>53.1000</td>\n",
       "      <td>C123</td>\n",
       "      <td>S</td>\n",
       "    </tr>\n",
       "    <tr>\n",
       "      <th>4</th>\n",
       "      <td>5</td>\n",
       "      <td>0</td>\n",
       "      <td>3</td>\n",
       "      <td>Allen, Mr. William Henry</td>\n",
       "      <td>male</td>\n",
       "      <td>35.0</td>\n",
       "      <td>0</td>\n",
       "      <td>0</td>\n",
       "      <td>373450</td>\n",
       "      <td>8.0500</td>\n",
       "      <td>NaN</td>\n",
       "      <td>S</td>\n",
       "    </tr>\n",
       "  </tbody>\n",
       "</table>\n",
       "</div>"
      ],
      "text/plain": [
       "   PassengerId  Survived  Pclass  \\\n",
       "0            1         0       3   \n",
       "1            2         1       1   \n",
       "2            3         1       3   \n",
       "3            4         1       1   \n",
       "4            5         0       3   \n",
       "\n",
       "                                                Name     Sex   Age  SibSp  \\\n",
       "0                            Braund, Mr. Owen Harris    male  22.0      1   \n",
       "1  Cumings, Mrs. John Bradley (Florence Briggs Th...  female  38.0      1   \n",
       "2                             Heikkinen, Miss. Laina  female  26.0      0   \n",
       "3       Futrelle, Mrs. Jacques Heath (Lily May Peel)  female  35.0      1   \n",
       "4                           Allen, Mr. William Henry    male  35.0      0   \n",
       "\n",
       "   Parch            Ticket     Fare Cabin Embarked  \n",
       "0      0         A/5 21171   7.2500   NaN        S  \n",
       "1      0          PC 17599  71.2833   C85        C  \n",
       "2      0  STON/O2. 3101282   7.9250   NaN        S  \n",
       "3      0            113803  53.1000  C123        S  \n",
       "4      0            373450   8.0500   NaN        S  "
      ]
     },
     "execution_count": 119,
     "metadata": {},
     "output_type": "execute_result"
    }
   ],
   "source": [
    "import pandas as pd\n",
    "import matplotlib.pyplot as plt \n",
    "import numpy as np\n",
    "\n",
    "train_filename = \"train.csv\"\n",
    "test_filename = \"test.csv\"\n",
    "gender_submission = \"gender_submission.csv\"\n",
    "\n",
    "def load_data(filename):\n",
    "    train = pd.read_csv(filename)\n",
    "    return train\n",
    "\n",
    "data = load_data(train_filename)\n",
    "\n",
    "\n",
    "from sklearn.model_selection import train_test_split\n",
    "\n",
    "train, test = train_test_split(data, test_size=0.2, random_state=50)\n",
    "\n",
    "\n",
    "data.head()"
   ]
  },
  {
   "cell_type": "code",
   "execution_count": 120,
   "metadata": {},
   "outputs": [
    {
     "name": "stdout",
     "output_type": "stream",
     "text": [
      "       PassengerId    Survived      Pclass         Age       SibSp  \\\n",
      "count   712.000000  712.000000  712.000000  566.000000  712.000000   \n",
      "mean    440.278090    0.370787    2.286517   30.236608    0.525281   \n",
      "std     257.106262    0.483355    0.848222   14.469209    1.122300   \n",
      "min       1.000000    0.000000    1.000000    0.420000    0.000000   \n",
      "25%     215.750000    0.000000    1.000000   21.000000    0.000000   \n",
      "50%     432.500000    0.000000    3.000000   29.000000    0.000000   \n",
      "75%     661.250000    1.000000    3.000000   39.000000    1.000000   \n",
      "max     891.000000    1.000000    3.000000   80.000000    8.000000   \n",
      "\n",
      "            Parch        Fare  \n",
      "count  712.000000  712.000000  \n",
      "mean     0.359551   33.038108  \n",
      "std      0.772192   49.554624  \n",
      "min      0.000000    0.000000  \n",
      "25%      0.000000    7.925000  \n",
      "50%      0.000000   15.047900  \n",
      "75%      0.000000   31.275000  \n",
      "max      5.000000  512.329200  \n",
      "567    female\n",
      "648      male\n",
      "790      male\n",
      "618    female\n",
      "77       male\n",
      "11     female\n",
      "553      male\n",
      "162      male\n",
      "18     female\n",
      "741      male\n",
      "Name: Sex, dtype: object\n",
      "[0 1 1 0 1 0 1 1 0 1]\n",
      "Index(['female', 'male'], dtype='object')\n"
     ]
    },
    {
     "data": {
      "text/plain": [
       "array([[<matplotlib.axes._subplots.AxesSubplot object at 0x7f361b526438>,\n",
       "        <matplotlib.axes._subplots.AxesSubplot object at 0x7f361b538748>,\n",
       "        <matplotlib.axes._subplots.AxesSubplot object at 0x7f361b560a58>],\n",
       "       [<matplotlib.axes._subplots.AxesSubplot object at 0x7f361b50bd30>,\n",
       "        <matplotlib.axes._subplots.AxesSubplot object at 0x7f361b4c0080>,\n",
       "        <matplotlib.axes._subplots.AxesSubplot object at 0x7f361b4c00b8>],\n",
       "       [<matplotlib.axes._subplots.AxesSubplot object at 0x7f361b4906a0>,\n",
       "        <matplotlib.axes._subplots.AxesSubplot object at 0x7f361b4399b0>,\n",
       "        <matplotlib.axes._subplots.AxesSubplot object at 0x7f361b3e3cc0>]],\n",
       "      dtype=object)"
      ]
     },
     "execution_count": 120,
     "metadata": {},
     "output_type": "execute_result"
    },
    {
     "data": {
      "image/png": "[encoded data removed]",
      "text/plain": [
       "<Figure size 864x576 with 9 Axes>"
      ]
     },
     "metadata": {},
     "output_type": "display_data"
    }
   ],
   "source": [
    "train.dropna(subset=[\"Cabin\", \"Ticket\"])\n",
    "print(train.describe())\n",
    "\n",
    "X = train.values[:,2:]\n",
    "Y = train.values[:,1]\n",
    "\n",
    "sex_cat = train[\"Sex\"]\n",
    "sex_cat_enc, sex = sex_cat.factorize()\n",
    "print(sex_cat.head(10))\n",
    "print(sex_cat_enc[0:10])\n",
    "print(sex)\n",
    "\n",
    "\n",
    "\n",
    "pclass = train.values[:,2]\n",
    "\n",
    "from sklearn.preprocessing import OneHotEncoder\n",
    "\n",
    "encoder = OneHotEncoder()\n",
    "pclass_1hot = encoder.fit_transform(pclass.reshape(-1,1))\n",
    "pclass_1hot.toarray()\n",
    "\n",
    "\n",
    "from pandas.plotting import scatter_matrix\n",
    "\n",
    "attributes = [\"Age\", \"Pclass\", \"Fare\"]\n",
    "scatter_matrix(train[attributes], figsize=(12,8))"
   ]
  },
  {
   "cell_type": "code",
   "execution_count": 121,
   "metadata": {},
   "outputs": [],
   "source": [
    "from sklearn.base import BaseEstimator, TransformerMixin\n",
    "\n",
    "class DataSel(BaseEstimator, TransformerMixin):\n",
    "    def __init__(self, attribute_names):\n",
    "        self.attribute_names = attribute_names\n",
    "        \n",
    "    def fit(self, X, y=None):\n",
    "        return self\n",
    "    \n",
    "    def transform(self, X):\n",
    "        return X[self.attribute_names].values    \n",
    "\n",
    "    \n",
    "Embarked_idx = 11\n",
    "attribute_name = \"Embarked\"\n",
    "class CleanEmbarked(BaseEstimator, TransformerMixin):\n",
    "    def __init__(self):\n",
    "        self.rep_values = 'S'\n",
    "        \n",
    "    def fit(self, X, y=None):\n",
    "        idx = (X[attribute_name].isnull())\n",
    "        \n",
    "        index = np.where(idx == False)\n",
    "        unique, counts = np.unique(X[attribute_name].values[index], return_counts=True)\n",
    "        \n",
    "        max_id = np.argmax(counts) \n",
    "        self.rep_values = unique[max_id]\n",
    "        return self\n",
    "    \n",
    "    def transform(self, X):\n",
    "        X[attribute_name].replace(np.nan, self.rep_values, inplace=True)\n",
    "        return X\n"
   ]
  },
  {
   "cell_type": "code",
   "execution_count": 126,
   "metadata": {},
   "outputs": [
    {
     "name": "stderr",
     "output_type": "stream",
     "text": [
      "/usr/lib/python3.6/site-packages/sklearn/utils/deprecation.py:58: DeprecationWarning: Class Imputer is deprecated; Imputer was deprecated in version 0.20 and will be removed in 0.22. Import impute.SimpleImputer from sklearn instead.\n",
      "  warnings.warn(msg, category=DeprecationWarning)\n"
     ]
    },
    {
     "data": {
      "text/plain": [
       "array([[-0.07621033, -0.46836875,  4.71775182, -0.24158225],\n",
       "       [-0.07621033, -0.46836875, -0.4659508 , -0.51470526],\n",
       "       [-0.07621033, -0.46836875, -0.4659508 , -0.51066648],\n",
       "       ...,\n",
       "       [-0.07621033,  0.42328513, -0.4659508 , -0.17948589],\n",
       "       [-1.62672331,  3.98990065,  2.12590051,  0.27992619],\n",
       "       [-0.92899247, -0.46836875, -0.4659508 , -0.50974159]])"
      ]
     },
     "execution_count": 126,
     "metadata": {},
     "output_type": "execute_result"
    }
   ],
   "source": [
    "attributes_num = [\"Age\", \"SibSp\", \"Parch\", \"Fare\"]\n",
    "\n",
    "from sklearn.pipeline import Pipeline\n",
    "from sklearn.preprocessing import StandardScaler, Imputer\n",
    "\n",
    "num_pipeline = Pipeline([\n",
    "    ('selector', DataSel(attributes_num)),\n",
    "    ('imputer', Imputer(strategy=\"median\")),\n",
    "    ('std_scaler', StandardScaler())\n",
    "])\n",
    "\n",
    "train_prep_num = num_pipeline.fit_transform(train)\n",
    "train_prep_num"
   ]
  },
  {
   "cell_type": "code",
   "execution_count": 123,
   "metadata": {},
   "outputs": [
    {
     "name": "stderr",
     "output_type": "stream",
     "text": [
      "/usr/lib/python3.6/site-packages/pandas/core/generic.py:5886: SettingWithCopyWarning: \n",
      "A value is trying to be set on a copy of a slice from a DataFrame\n",
      "\n",
      "See the caveats in the documentation: http://pandas.pydata.org/pandas-docs/stable/indexing.html#indexing-view-versus-copy\n",
      "  self._update_inplace(new_data)\n"
     ]
    },
    {
     "data": {
      "text/plain": [
       "<712x8 sparse matrix of type '<class 'numpy.float64'>'\n",
       "\twith 2136 stored elements in Compressed Sparse Row format>"
      ]
     },
     "execution_count": 123,
     "metadata": {},
     "output_type": "execute_result"
    }
   ],
   "source": [
    "attributs_cat = [\"Pclass\", \"Sex\", \"Embarked\"]\n",
    "\n",
    "from sklearn.pipeline import Pipeline\n",
    "from sklearn.preprocessing import CategoricalEncoder\n",
    "\n",
    "train_cat = train[attributs_cat]\n",
    "\n",
    "cat_encoder = CategoricalEncoder(encoding=\"onehot-dense\")\n",
    "\n",
    "attribute_name = \"Embarked\"\n",
    "idx = (train[attribute_name].isnull())\n",
    "      \n",
    "index = np.where(idx == False)\n",
    "\n",
    "unique, counts = np.unique(train[attribute_name].values[index], return_counts=True)\n",
    "        \n",
    "max_id = np.argmax(counts) \n",
    "\n",
    "clean_em = CleanEmbarked()\n",
    "train_cat = clean_em.fit_transform(train_cat)\n",
    "\n",
    "cat_pipeline = Pipeline([\n",
    "    ('Embarked_cleaner', CleanEmbarked()),\n",
    "    ('selector', DataSel(attributs_cat)),\n",
    "    ('cat_encoder', CategoricalEncoder()),\n",
    "])\n",
    "\n",
    "train_prep_cat = cat_pipeline.fit_transform(train)\n",
    "train_prep_cat"
   ]
  },
  {
   "cell_type": "code",
   "execution_count": 124,
   "metadata": {},
   "outputs": [],
   "source": [
    "from sklearn.pipeline import Pipeline\n",
    "from sklearn.pipeline import FeatureUnion\n",
    "\n",
    "full_pipe = FeatureUnion(transformer_list=[\n",
    "    (\"num_pipeline\", num_pipeline),\n",
    "    (\"cat_pipeline\", cat_pipeline),\n",
    "])"
   ]
  },
  {
   "cell_type": "code",
   "execution_count": 132,
   "metadata": {},
   "outputs": [
    {
     "name": "stderr",
     "output_type": "stream",
     "text": [
      "/usr/lib/python3.6/site-packages/pandas/core/generic.py:5886: SettingWithCopyWarning: \n",
      "A value is trying to be set on a copy of a slice from a DataFrame\n",
      "\n",
      "See the caveats in the documentation: http://pandas.pydata.org/pandas-docs/stable/indexing.html#indexing-view-versus-copy\n",
      "  self._update_inplace(new_data)\n"
     ]
    },
    {
     "data": {
      "text/plain": [
       "(712, 12)"
      ]
     },
     "execution_count": 132,
     "metadata": {},
     "output_type": "execute_result"
    }
   ],
   "source": [
    "train_prep = full_pipe.fit_transform(train)\n",
    "Y_train = train[\"Survived\"].values\n",
    "\n",
    "train_prep.shape"
   ]
  },
  {
   "cell_type": "code",
   "execution_count": null,
   "metadata": {},
   "outputs": [],
   "source": [
    "from sklearn.ensemble import RandomForestClassifier\n",
    "from sklearn.model_selection import GridSearchCV\n",
    "\n",
    "n_estim = np.arange(30,60,5)\n",
    "n_feat = np.arange(1,12,1)\n",
    "\n",
    "param_grid = [\n",
    "    {'bootstrap': [False,True], 'n_estimators':n_estim, 'max_features': n_feat},\n",
    "]\n",
    "\n",
    "forest = RandomForestClassifier()\n",
    "\n",
    "grid_search = GridSearchCV(forest, param_grid, cv=5,\n",
    "                          scoring='accuracy', n_jobs=4)\n",
    "\n",
    "grid_search.fit(train_prep, Y_train)\n",
    "\n",
    "print(grid_search.best_params_)\n",
    "cvres = grid_search.cv_results_\n",
    "for mean_score, params in zip(cvres[\"mean_test_score\"], cvres[\"params\"]):\n",
    "    print(mean_score, params)"
   ]
  },
  {
   "cell_type": "code",
   "execution_count": 150,
   "metadata": {},
   "outputs": [
    {
     "name": "stdout",
     "output_type": "stream",
     "text": [
      "Correct train : 694 \t Incorrect train : 18\n",
      "Correct test : 144 \t Incorrect test : 35\n",
      "Precision Train : 0.9747045685745099 Recall Train : 0.9747191011235955\n",
      "Precision Test : 0.8092279678197613 Recall Test : 0.8044692737430168\n",
      "[[441   7]\n",
      " [ 11 253]]\n"
     ]
    },
    {
     "name": "stderr",
     "output_type": "stream",
     "text": [
      "/usr/lib/python3.6/site-packages/pandas/core/generic.py:5886: SettingWithCopyWarning: \n",
      "A value is trying to be set on a copy of a slice from a DataFrame\n",
      "\n",
      "See the caveats in the documentation: http://pandas.pydata.org/pandas-docs/stable/indexing.html#indexing-view-versus-copy\n",
      "  self._update_inplace(new_data)\n"
     ]
    }
   ],
   "source": [
    "from sklearn.metrics import precision_score, recall_score\n",
    "\n",
    "\n",
    "Y_train_pred = grid_search.predict(train_prep)\n",
    "\n",
    "X_test_prep = full_pipe.transform(test)\n",
    "Y_test = test[\"Survived\"].values\n",
    "Y_test_pred = grid_search.predict(X_test_prep)\n",
    "\n",
    "train_correct = sum(Y_train_pred == Y_train)\n",
    "test_correct = sum(Y_test_pred == Y_test)\n",
    "\n",
    "pre_train = precision_score(Y_train, Y_train_pred, average='weighted')\n",
    "rec_train = recall_score(Y_train, Y_train_pred, average='weighted')\n",
    "pre_test = precision_score(Y_test, Y_test_pred, average='weighted')\n",
    "rec_test = recall_score(Y_test, Y_test_pred, average='weighted')\n",
    "\n",
    "\n",
    "\n",
    "print(\"Correct train :\", train_correct, \"\\t Incorrect train :\", len(Y_train)- train_correct)\n",
    "print(\"Correct test :\", test_correct, \"\\t Incorrect test :\", len(Y_test)- test_correct)\n",
    "print(\"Precision Train :\", pre_train, \"Recall Train :\", rec_train)\n",
    "print(\"Precision Test :\", pre_test, \"Recall Test :\", rec_test)\n",
    "\n",
    "\n",
    "from sklearn.metrics import confusion_matrix\n",
    "\n",
    "print(confusion_matrix(Y_train, Y_train_pred))\n",
    "\n"
   ]
  },
  {
   "cell_type": "code",
   "execution_count": null,
   "metadata": {},
   "outputs": [],
   "source": []
  }
 ],
 "metadata": {
  "kernelspec": {
   "display_name": "Python 3",
   "language": "python",
   "name": "python3"
  },
  "language_info": {
   "codemirror_mode": {
    "name": "ipython",
    "version": 3
   },
   "file_extension": ".py",
   "mimetype": "text/x-python",
   "name": "python",
   "nbconvert_exporter": "python",
   "pygments_lexer": "ipython3",
   "version": "3.6.5"
  }
 },
 "nbformat": 4,
 "nbformat_minor": 2
}
